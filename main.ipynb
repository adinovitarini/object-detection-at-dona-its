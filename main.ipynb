{
 "cells": [
  {
   "cell_type": "code",
   "execution_count": null,
   "metadata": {},
   "outputs": [],
   "source": [
    "import roboflow\n",
    "\n",
    "roboflow.login()\n",
    "\n",
    "# replace with the corrosion project you choose above\n",
    "roboflow.download_dataset(\n",
    "dataset_url=\"https://universe.roboflow.com/yolov10-custom-dataset/yolov10-jqgj3/1\",\n",
    "model_format=\"coco\"\n",
    ")"
   ]
  }
 ],
 "metadata": {
  "language_info": {
   "name": "python"
  }
 },
 "nbformat": 4,
 "nbformat_minor": 2
}
